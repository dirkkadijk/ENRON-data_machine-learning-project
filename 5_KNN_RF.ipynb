{
 "cells": [
  {
   "cell_type": "markdown",
   "metadata": {},
   "source": [
    "# Lesson 5 - Decision Tree\n",
    "This is the code to accompany the Lesson 5 (FREE CHOICE) mini-project.\n",
    "\n",
    "Your algorithm choices are the following:\n",
    "\n",
    ">1. K nearest neighbors\n",
    ">2. Random Forest\n",
    ">3. Adaboost (sometimes also called 'Boosted decision tree')\n",
    "\n",
    "\n",
    "Use an algo to identify emails from the Enron corpus by author:\n",
    "Sara has label 0 Chris has label 1"
   ]
  },
  {
   "cell_type": "code",
   "execution_count": 64,
   "metadata": {
    "colab": {},
    "colab_type": "code",
    "id": "FbWaB53I5iMP"
   },
   "outputs": [],
   "source": [
    "import numpy as np\n",
    "import matplotlib.pyplot as plt\n",
    "import pandas as pd"
   ]
  },
  {
   "cell_type": "code",
   "execution_count": 66,
   "metadata": {},
   "outputs": [
    {
     "name": "stdout",
     "output_type": "stream",
     "text": [
      "zerrrrep\n"
     ]
    }
   ],
   "source": [
    "print('zerrrrep')"
   ]
  },
  {
   "cell_type": "markdown",
   "metadata": {
    "colab_type": "text",
    "id": "RXJQ0SgBRlF7"
   },
   "source": [
    "# 1. K Nearest Neighbour (KNN)\n",
    "K Nearest Neighbour uses a distance metric like Euclidean distance to identity similarity of target data point (sample) in test or validation set to the data points (samples) in the training set. Then based on the user specified `k`, it finds the k closest points (samples) to the target data point. \n",
    "\n",
    "Afterward, it chooses the `most frequent label` among the k closest points (majority voting) as the class label of the target sample. The class labels can be also assigned based on weighted voting of the k closest data points to the data point."
   ]
  },
  {
   "cell_type": "code",
   "execution_count": 50,
   "metadata": {},
   "outputs": [
    {
     "name": "stdout",
     "output_type": "stream",
     "text": [
      "no. of Chris training emails: 7936\n",
      "no. of Sara training emails: 7884\n"
     ]
    }
   ],
   "source": [
    "#!/usr/bin/python\n",
    "\n",
    "\"\"\" \n",
    "    This is the code to accompany the Lesson 5 (decision tree) mini-project.\n",
    "\n",
    "    Use a Decision Tree to identify emails from the Enron corpus by author:    \n",
    "    Sara has label 0\n",
    "    Chris has label 1\n",
    "\"\"\"\n",
    "    \n",
    "import sys\n",
    "from time import time\n",
    "sys.path.append(\"../tools/\")\n",
    "from email_preprocess import preprocess\n",
    "from sklearn import tree\n",
    "from sklearn.neighbors import KNeighborsClassifier\n",
    "\n",
    "\n",
    "# features_train and features_test are the features for the training and testing datasets, respectively;\n",
    "# labels_train and labels_test are the corresponding item labels\n",
    "features_train, features_test, labels_train, labels_test = preprocess()"
   ]
  },
  {
   "cell_type": "code",
   "execution_count": 51,
   "metadata": {
    "colab": {
     "base_uri": "https://localhost:8080/",
     "height": 52
    },
    "colab_type": "code",
    "id": "Erm_hL66Q5pI",
    "outputId": "bc0f3717-73f2-49b1-a459-16cab2c4db31"
   },
   "outputs": [
    {
     "name": "stdout",
     "output_type": "stream",
     "text": [
      "train: 59878700\n",
      "test: 6654030\n"
     ]
    }
   ],
   "source": [
    "print(f'train: {features_train.size}')\n",
    "print(f'test: {features_test.size}')"
   ]
  },
  {
   "cell_type": "code",
   "execution_count": 52,
   "metadata": {},
   "outputs": [
    {
     "name": "stdout",
     "output_type": "stream",
     "text": [
      "number of features 3785\n"
     ]
    }
   ],
   "source": [
    "print ('number of features %d' % len(features_train[0]))\n",
    "\n",
    "# number of features bij Percentile=1  (in email_preprocess.py): 379\n",
    "# number of features bij Percentile=10 (in email_preprocess.py): 3785"
   ]
  },
  {
   "cell_type": "code",
   "execution_count": null,
   "metadata": {},
   "outputs": [],
   "source": []
  },
  {
   "cell_type": "markdown",
   "metadata": {},
   "source": [
    "## K = 3"
   ]
  },
  {
   "cell_type": "code",
   "execution_count": 61,
   "metadata": {},
   "outputs": [
    {
     "name": "stdout",
     "output_type": "stream",
     "text": [
      "training time: 0.0 s\n"
     ]
    }
   ],
   "source": [
    "# Initialize our classifier\n",
    "t0 = time()\n",
    "clf = KNeighborsClassifier(n_neighbors=3)\n",
    "print (\"training time:\", round(time()-t0, 3), \"s\")"
   ]
  },
  {
   "cell_type": "code",
   "execution_count": 62,
   "metadata": {},
   "outputs": [
    {
     "data": {
      "text/plain": [
       "KNeighborsClassifier(n_neighbors=3)"
      ]
     },
     "execution_count": 62,
     "metadata": {},
     "output_type": "execute_result"
    }
   ],
   "source": [
    "# Fitting the model with the data\n",
    "clf.fit(features_train, labels_train)"
   ]
  },
  {
   "cell_type": "code",
   "execution_count": 55,
   "metadata": {},
   "outputs": [
    {
     "name": "stdout",
     "output_type": "stream",
     "text": [
      "Number of events predicted in Chris class is 1066\n",
      "prediction time: 255.874 s\n",
      "accuracy of the KNN classifiation is: 0.881\n"
     ]
    }
   ],
   "source": [
    "# Predict\n",
    "t0 = time()\n",
    "clf.predict(features_test)\n",
    "print('Number of events predicted in Chris class is', sum(clf.predict(features_test) ==1))\n",
    "print (\"prediction time:\", round(time()-t0, 3), \"s\")\n",
    "\n",
    "clf.score(features_test, labels_test)\n",
    "print('accuracy of the KNN classifiation is: %0.3f' % clf.score(features_test, labels_test))"
   ]
  },
  {
   "cell_type": "markdown",
   "metadata": {},
   "source": [
    "`uitslag bij SelectPercentile = 0.01: 0.943   | 0.1: 0.88\n"
   ]
  },
  {
   "cell_type": "markdown",
   "metadata": {},
   "source": [
    "## K = 5"
   ]
  },
  {
   "cell_type": "code",
   "execution_count": 7,
   "metadata": {},
   "outputs": [
    {
     "name": "stdout",
     "output_type": "stream",
     "text": [
      "training time: 0.0 s\n"
     ]
    }
   ],
   "source": [
    "# Initialize our classifier\n",
    "t0 = time()\n",
    "clf = KNeighborsClassifier(n_neighbors=5)\n",
    "print (\"training time:\", round(time()-t0, 3), \"s\")"
   ]
  },
  {
   "cell_type": "code",
   "execution_count": 8,
   "metadata": {},
   "outputs": [
    {
     "data": {
      "text/plain": [
       "KNeighborsClassifier()"
      ]
     },
     "execution_count": 8,
     "metadata": {},
     "output_type": "execute_result"
    }
   ],
   "source": [
    "# Fitting the model with the data\n",
    "clf.fit(features_train, labels_train)"
   ]
  },
  {
   "cell_type": "code",
   "execution_count": 9,
   "metadata": {},
   "outputs": [
    {
     "name": "stdout",
     "output_type": "stream",
     "text": [
      "Number of events predicted in Chris class is 1116\n",
      "prediction time: 302.998 s\n",
      "accuracy of the KNN classifiation is: 0.857\n"
     ]
    }
   ],
   "source": [
    "# Predict\n",
    "t0 = time()\n",
    "clf.predict(features_test)\n",
    "print('Number of events predicted in Chris class is', sum(clf.predict(features_test) ==1))\n",
    "print (\"prediction time:\", round(time()-t0, 3), \"s\")\n",
    "\n",
    "print('accuracy of the KNN classifiation is: %0.3f' % clf.score(features_test, labels_test))"
   ]
  },
  {
   "cell_type": "markdown",
   "metadata": {},
   "source": [
    "uitslag bij SelectPercentile = 0.01: 0.938    | 0.1: 0.86\n"
   ]
  },
  {
   "cell_type": "markdown",
   "metadata": {},
   "source": [
    "## K = 1"
   ]
  },
  {
   "cell_type": "code",
   "execution_count": 58,
   "metadata": {},
   "outputs": [
    {
     "name": "stdout",
     "output_type": "stream",
     "text": [
      "training time: 0.0 s\n"
     ]
    }
   ],
   "source": [
    "# Initialize our classifier\n",
    "t0 = time()\n",
    "clf = KNeighborsClassifier(n_neighbors=8)\n",
    "print (\"training time:\", round(time()-t0, 3), \"s\")"
   ]
  },
  {
   "cell_type": "code",
   "execution_count": 59,
   "metadata": {},
   "outputs": [
    {
     "data": {
      "text/plain": [
       "KNeighborsClassifier(n_neighbors=8)"
      ]
     },
     "execution_count": 59,
     "metadata": {},
     "output_type": "execute_result"
    }
   ],
   "source": [
    "# Fitting the model with the data\n",
    "clf.fit(features_train, labels_train)"
   ]
  },
  {
   "cell_type": "code",
   "execution_count": 60,
   "metadata": {},
   "outputs": [
    {
     "name": "stdout",
     "output_type": "stream",
     "text": [
      "Number of events predicted in Chris class is: 1222\n",
      "prediction time: 344.681 s\n",
      "accuracy of the KNN classifiation is: 0.795\n"
     ]
    }
   ],
   "source": [
    "# Predict\n",
    "t0 = time()\n",
    "y_pred = clf.predict(features_test)\n",
    "print('Number of events predicted in Chris class is:', sum(clf.predict(features_test) ==1))\n",
    "print (\"prediction time:\", round(time()-t0, 3), \"s\")\n",
    "\n",
    "print('accuracy of the KNN classifiation is: %0.3f' % clf.score(features_test, labels_test))"
   ]
  },
  {
   "cell_type": "markdown",
   "metadata": {},
   "source": [
    "uitslag bij SelectPercentile = 0.01: ??    |\n",
    "                               0.1 : 0.98   \n"
   ]
  },
  {
   "cell_type": "code",
   "execution_count": null,
   "metadata": {},
   "outputs": [],
   "source": []
  },
  {
   "cell_type": "code",
   "execution_count": 13,
   "metadata": {},
   "outputs": [
    {
     "data": {
      "text/plain": [
       "array([0, 0, 1, ..., 1, 0, 0])"
      ]
     },
     "execution_count": 13,
     "metadata": {},
     "output_type": "execute_result"
    }
   ],
   "source": [
    "# dit zijn de predictions:\n",
    "y_pred"
   ]
  },
  {
   "cell_type": "code",
   "execution_count": 14,
   "metadata": {},
   "outputs": [
    {
     "data": {
      "text/plain": [
       "array([[1., 0.],\n",
       "       [1., 0.],\n",
       "       [0., 1.],\n",
       "       ...,\n",
       "       [0., 1.],\n",
       "       [1., 0.],\n",
       "       [1., 0.]])"
      ]
     },
     "execution_count": 14,
     "metadata": {},
     "output_type": "execute_result"
    }
   ],
   "source": [
    "clf.predict_proba(features_test)"
   ]
  },
  {
   "cell_type": "code",
   "execution_count": 15,
   "metadata": {},
   "outputs": [
    {
     "name": "stdout",
     "output_type": "stream",
     "text": [
      "number of features 3785\n"
     ]
    }
   ],
   "source": [
    "print ('number of features %d' % len(features_train[0]))"
   ]
  },
  {
   "cell_type": "markdown",
   "metadata": {},
   "source": [
    "## Metrics"
   ]
  },
  {
   "cell_type": "code",
   "execution_count": 56,
   "metadata": {
    "colab": {
     "base_uri": "https://localhost:8080/",
     "height": 121
    },
    "colab_type": "code",
    "id": "TT10jmXASEW0",
    "outputId": "eec8f799-e012-4730-c9e9-0c01e6dc16fb"
   },
   "outputs": [],
   "source": [
    "from sklearn import metrics"
   ]
  },
  {
   "cell_type": "code",
   "execution_count": 57,
   "metadata": {
    "colab": {
     "base_uri": "https://localhost:8080/",
     "height": 121
    },
    "colab_type": "code",
    "id": "Ff_8H-hb065r",
    "outputId": "ac575133-670b-4f9e-92a0-9fa2ff6bc607"
   },
   "outputs": [
    {
     "name": "stdout",
     "output_type": "stream",
     "text": [
      "Accuracy of the predictions: 0.8179749715585893\n",
      "Balanced accuracy of the predictions: 0.8206655490034889\n",
      "MCC of the predictions: 0.6787141662888279 \n",
      "\n",
      "Confusion matrix of the predictions:\n",
      " [[582 311]\n",
      " [  9 856]]\n"
     ]
    }
   ],
   "source": [
    "print(\"Accuracy of the predictions:\", metrics.accuracy_score(labels_test, y_pred))\n",
    "print(\"Balanced accuracy of the predictions:\", metrics.balanced_accuracy_score(labels_test, y_pred))\n",
    "print(\"MCC of the predictions:\", metrics.matthews_corrcoef(labels_test, y_pred), '\\n')\n",
    "print(\"Confusion matrix of the predictions:\\n\", metrics.confusion_matrix(labels_test, y_pred))"
   ]
  },
  {
   "cell_type": "code",
   "execution_count": 24,
   "metadata": {
    "colab": {
     "base_uri": "https://localhost:8080/",
     "height": 315
    },
    "colab_type": "code",
    "id": "Zjli08Uk-RhY",
    "outputId": "5950b837-602d-49be-e46b-adb79ddc4017"
   },
   "outputs": [
    {
     "data": {
      "image/png": "[encoded data removed]",
      "text/plain": [
       "<Figure size 432x288 with 2 Axes>"
      ]
     },
     "metadata": {
      "needs_background": "light"
     },
     "output_type": "display_data"
    }
   ],
   "source": [
    "from sklearn.metrics import confusion_matrix\n",
    "from sklearn.utils.multiclass import unique_labels\n",
    "\n",
    "\n",
    "def plot_confusion_matrix(y_true, y_pred, classes, title=None, cmap=plt.cm.Blues):\n",
    " \n",
    "    # Compute confusion matrix\n",
    "    cm = confusion_matrix(y_true, y_pred)\n",
    "\n",
    "    fig, ax = plt.subplots()\n",
    "    im = ax.imshow(cm, interpolation='nearest', cmap=cmap)\n",
    "    ax.figure.colorbar(im, ax=ax)\n",
    "    # We want to show all ticks...\n",
    "    ax.set(xticks=np.arange(cm.shape[1]),\n",
    "           yticks=np.arange(cm.shape[0]),\n",
    "           # ... and label them with the respective list entries\n",
    "           xticklabels=classes, yticklabels=classes,\n",
    "           title=title,\n",
    "           ylabel='True label',\n",
    "           xlabel='Predicted label')\n",
    "\n",
    "    # Rotate the tick labels and set their alignment.\n",
    "    plt.setp(ax.get_xticklabels(), rotation=45, ha=\"right\", rotation_mode=\"anchor\")\n",
    "\n",
    "    # Loop over data dimensions and create text annotations.\n",
    "    fmt = 'd'\n",
    "    thresh = cm.max() / 2.\n",
    "    for i in range(cm.shape[0]):\n",
    "        for j in range(cm.shape[1]):\n",
    "            ax.text(j, i, format(cm[i, j], fmt),\n",
    "                    ha=\"center\", va=\"center\",\n",
    "                    color=\"white\" if cm[i, j] > thresh else \"black\")\n",
    "    fig.tight_layout()\n",
    "    return ax\n",
    "\n",
    "\n",
    "# Plot non-normalized confusion matrix\n",
    "plot_confusion_matrix(labels_test, y_pred, classes= ['Sara','Chris'], title='Confusion matrix')\n",
    "\n",
    "plt.show();"
   ]
  },
  {
   "cell_type": "code",
   "execution_count": 238,
   "metadata": {
    "colab": {
     "base_uri": "https://localhost:8080/",
     "height": 1000
    },
    "colab_type": "code",
    "id": "WOQA6HIJSy2f",
    "outputId": "e14c3390-e89c-4947-f6f4-70fcfa85156b"
   },
   "outputs": [
    {
     "data": {
      "image/png": "[encoded data removed]",
      "text/plain": [
       "<Figure size 432x288 with 1 Axes>"
      ]
     },
     "metadata": {
      "needs_background": "light"
     },
     "output_type": "display_data"
    }
   ],
   "source": [
    "k_range = list(range(1,20))\n",
    "scores = []\n",
    "for k in k_range:\n",
    "    knn = KNeighborsClassifier(n_neighbors=k)\n",
    "    knn.fit(X_train, y_train)\n",
    "    y_pred = knn.predict(X_test)\n",
    "    scores.append(metrics.accuracy_score(y_test, y_pred))\n",
    "    \n",
    "plt.plot(k_range, scores)\n",
    "plt.xlabel('Value of k for KNN')\n",
    "plt.ylabel('Accuracy Score')\n",
    "plt.title('Accuracy Scores for Values of k of k-Nearest-Neighbors')\n",
    "plt.show();"
   ]
  },
  {
   "cell_type": "code",
   "execution_count": null,
   "metadata": {},
   "outputs": [],
   "source": []
  },
  {
   "cell_type": "markdown",
   "metadata": {},
   "source": [
    "# 2. Random Forest"
   ]
  },
  {
   "cell_type": "code",
   "execution_count": 41,
   "metadata": {},
   "outputs": [],
   "source": [
    "from sklearn import metrics"
   ]
  },
  {
   "cell_type": "code",
   "execution_count": 47,
   "metadata": {
    "colab": {
     "base_uri": "https://localhost:8080/",
     "height": 276
    },
    "colab_type": "code",
    "id": "5bouEZY6y7kr",
    "outputId": "1588cc42-524e-4925-82bb-afe0519a8bfa"
   },
   "outputs": [
    {
     "name": "stdout",
     "output_type": "stream",
     "text": [
      "[0.         0.         0.         ... 0.         0.         0.00091576]\n"
     ]
    }
   ],
   "source": [
    "from sklearn.ensemble import RandomForestClassifier\n",
    "from sklearn.datasets import make_classification\n",
    "RFclf = RandomForestClassifier(max_depth=5, min_samples_leaf=30, random_state=0)\n",
    "RFclf.fit(features_train, labels_train)\n",
    "y_pred = RFclf.predict(features_test)\n",
    "print(RFclf.feature_importances_)"
   ]
  },
  {
   "cell_type": "code",
   "execution_count": 48,
   "metadata": {
    "colab": {
     "base_uri": "https://localhost:8080/",
     "height": 155
    },
    "colab_type": "code",
    "id": "7Ef9rOrPzfPX",
    "outputId": "51fa2ece-9c51-4494-fb7b-5a51fbd99788"
   },
   "outputs": [
    {
     "name": "stdout",
     "output_type": "stream",
     "text": [
      "Accuracy of the predictions: 0.8179749715585893\n",
      "Balanced accuracy of the predictions: 0.8206655490034889\n",
      "MCC of the predictions: 0.6787141662888279\n",
      "Confusion matrix of the predictions:\n",
      " [[582 311]\n",
      " [  9 856]] \n",
      "\n",
      "Confusion matrix of the predictions:\n",
      " [[582 311]\n",
      " [  9 856]]\n"
     ]
    }
   ],
   "source": [
    "print(\"Accuracy of the predictions:\", metrics.accuracy_score(labels_test, y_pred))\n",
    "print(\"Balanced accuracy of the predictions:\", metrics.balanced_accuracy_score(labels_test, y_pred))\n",
    "print(\"MCC of the predictions:\", metrics.matthews_corrcoef(labels_test, y_pred))\n",
    "print(\"Confusion matrix of the predictions:\\n\", metrics.confusion_matrix(labels_test, y_pred), '\\n')\n",
    "print(\"Confusion matrix of the predictions:\\n\", metrics.confusion_matrix(labels_test, y_pred))\n"
   ]
  },
  {
   "cell_type": "raw",
   "metadata": {},
   "source": [
    "Accuracy of prediction:  (obv: percentile=10)\n",
    "\n",
    "- max_depth = 1: 0.76\n",
    "              3: 0.80\n",
    "              5: 0.83           (wordt 0.81 bij min_samples_leaf=30)\n",
    "              10: 0.798"
   ]
  },
  {
   "cell_type": "code",
   "execution_count": 25,
   "metadata": {},
   "outputs": [
    {
     "data": {
      "image/png": "[encoded data removed]",
      "text/plain": [
       "<Figure size 432x288 with 2 Axes>"
      ]
     },
     "metadata": {
      "needs_background": "light"
     },
     "output_type": "display_data"
    }
   ],
   "source": [
    "plot_confusion_matrix(labels_test, y_pred, classes=['Sara','Chris'],title='Confusion matrix')\n",
    "\n",
    "plt.show()"
   ]
  },
  {
   "cell_type": "code",
   "execution_count": 23,
   "metadata": {},
   "outputs": [
    {
     "name": "stdout",
     "output_type": "stream",
     "text": [
      "number of features 3785\n"
     ]
    }
   ],
   "source": [
    "print ('number of features %d' % len(features_train[0]))"
   ]
  },
  {
   "cell_type": "code",
   "execution_count": null,
   "metadata": {},
   "outputs": [],
   "source": []
  },
  {
   "cell_type": "code",
   "execution_count": null,
   "metadata": {},
   "outputs": [],
   "source": []
  },
  {
   "cell_type": "code",
   "execution_count": null,
   "metadata": {},
   "outputs": [],
   "source": []
  },
  {
   "cell_type": "code",
   "execution_count": null,
   "metadata": {},
   "outputs": [],
   "source": []
  },
  {
   "cell_type": "code",
   "execution_count": null,
   "metadata": {},
   "outputs": [],
   "source": []
  },
  {
   "cell_type": "code",
   "execution_count": null,
   "metadata": {},
   "outputs": [],
   "source": []
  },
  {
   "cell_type": "code",
   "execution_count": null,
   "metadata": {},
   "outputs": [],
   "source": []
  },
  {
   "cell_type": "code",
   "execution_count": null,
   "metadata": {},
   "outputs": [],
   "source": []
  },
  {
   "cell_type": "code",
   "execution_count": null,
   "metadata": {},
   "outputs": [],
   "source": []
  },
  {
   "cell_type": "code",
   "execution_count": null,
   "metadata": {},
   "outputs": [],
   "source": []
  },
  {
   "cell_type": "markdown",
   "metadata": {
    "colab_type": "text",
    "id": "s5wtdouySo0B"
   },
   "source": [
    "## Performance measure\n",
    "\n",
    "To assess performance of the machine learning model, we can use the following measure of the performance of the model:\n",
    "\n",
    "\n",
    "\n",
    "* **precision** is also referred to as positive predictive value (PPV)\n",
    "\n",
    "$${\\displaystyle {\\text{Precision}}=\\text{True positive rate} = {\\frac {tp}{tp+fp}}\\,}$$\n",
    "\n",
    "* **Recall** in this context is also referred to as the true positive rate or sensitivity\n",
    "\n",
    "\n",
    "\n",
    "\n",
    "$${\\displaystyle {\\text{Recall}}={\\frac {tp}{tp+fn}}\\,} $$\n",
    "\n",
    " \n",
    "\n",
    "* **specificity** True negative rate\n",
    "\n",
    "\n",
    "\n",
    "$${\\displaystyle {\\text{True negative rate}}={\\frac {tn}{tn+fp}}\\,}$$\n",
    "\n",
    "* **Accuracy**: This measure gives you a sense of performance for all the classes together as follows:\n",
    "\n",
    "$$ {\\displaystyle {\\text{Accuracy}}={\\frac {tp+tn}{tp+tn+fp+fn}}\\,}$$\n",
    "\n",
    "\n",
    "\\begin{equation*} Accuracy=\\frac{Number\\:of\\:correct\\:predictions}{(Total\\:number\\:of\\:data\\:points (samples))} \\end{equation*}\n",
    "\n",
    "$${\\displaystyle {\\text{Balanced Accuracy}}={\\frac {Recall+Specificity\n",
    "}{2}}\\,}$$\n",
    "\n",
    "* **Confusion matrix (or error matrix)**: True and false classification of the samples in all the classes can be shown in a matrix which is called confusion (or error) matrix. The columns are usually considered as the predicted classes and rows as actual classes. Hence, the diagonal elements of the matrix will be the total number of true classifcation in each class. \n"
   ]
  },
  {
   "cell_type": "code",
   "execution_count": null,
   "metadata": {},
   "outputs": [],
   "source": []
  },
  {
   "cell_type": "code",
   "execution_count": null,
   "metadata": {},
   "outputs": [],
   "source": []
  },
  {
   "cell_type": "code",
   "execution_count": null,
   "metadata": {},
   "outputs": [],
   "source": []
  }
 ],
 "metadata": {
  "kernelspec": {
   "display_name": "Python 3",
   "language": "python",
   "name": "python3"
  },
  "language_info": {
   "codemirror_mode": {
    "name": "ipython",
    "version": 3
   },
   "file_extension": ".py",
   "mimetype": "text/x-python",
   "name": "python",
   "nbconvert_exporter": "python",
   "pygments_lexer": "ipython3",
   "version": "3.7.7"
  }
 },
 "nbformat": 4,
 "nbformat_minor": 4
}
