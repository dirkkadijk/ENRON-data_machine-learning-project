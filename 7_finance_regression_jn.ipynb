{
 "cells": [
  {
   "cell_type": "code",
   "execution_count": 77,
   "metadata": {},
   "outputs": [],
   "source": [
    "#!/usr/bin/python\n",
    "\n",
    "\"\"\"\n",
    "    Starter code for the regression mini-project.\n",
    "    \n",
    "    Loads up/formats a modified version of the dataset\n",
    "    (why modified?  we've removed some trouble point that you'll find yourself in the outliers mini-project).\n",
    "\n",
    "    Draws a little scatterplot of the training/testing data\n",
    "\n",
    "    You fill in the regression code where indicated:\n",
    "\"\"\"    \n",
    "\n",
    "\n",
    "import sys\n",
    "import pickle\n",
    "sys.path.append(\"../tools/\")\n",
    "from feature_format import featureFormat, targetFeatureSplit\n",
    "dictionary = pickle.load( open(\"../final_project/final_project_dataset_modified.pkl\", \"rb\") )\n",
    "\n",
    "import matplotlib.pyplot as plt\n",
    "\n",
    "from sklearn.model_selection import RandomizedSearchCV\n",
    "from sklearn.model_selection import GridSearchCV\n",
    "from sklearn.model_selection import train_test_split               #from sklearn.cross_validation import train_test_split"
   ]
  },
  {
   "cell_type": "code",
   "execution_count": null,
   "metadata": {},
   "outputs": [],
   "source": []
  },
  {
   "cell_type": "code",
   "execution_count": 78,
   "metadata": {},
   "outputs": [
    {
     "data": {
      "text/html": [
       "<div>\n",
       "<style scoped>\n",
       "    .dataframe tbody tr th:only-of-type {\n",
       "        vertical-align: middle;\n",
       "    }\n",
       "\n",
       "    .dataframe tbody tr th {\n",
       "        vertical-align: top;\n",
       "    }\n",
       "\n",
       "    .dataframe thead th {\n",
       "        text-align: right;\n",
       "    }\n",
       "</style>\n",
       "<table border=\"1\" class=\"dataframe\">\n",
       "  <thead>\n",
       "    <tr style=\"text-align: right;\">\n",
       "      <th></th>\n",
       "      <th>salary</th>\n",
       "      <th>to_messages</th>\n",
       "      <th>deferral_payments</th>\n",
       "      <th>total_payments</th>\n",
       "      <th>loan_advances</th>\n",
       "      <th>bonus</th>\n",
       "      <th>email_address</th>\n",
       "      <th>restricted_stock_deferred</th>\n",
       "      <th>deferred_income</th>\n",
       "      <th>total_stock_value</th>\n",
       "      <th>...</th>\n",
       "      <th>from_poi_to_this_person</th>\n",
       "      <th>exercised_stock_options</th>\n",
       "      <th>from_messages</th>\n",
       "      <th>other</th>\n",
       "      <th>from_this_person_to_poi</th>\n",
       "      <th>poi</th>\n",
       "      <th>long_term_incentive</th>\n",
       "      <th>shared_receipt_with_poi</th>\n",
       "      <th>restricted_stock</th>\n",
       "      <th>director_fees</th>\n",
       "    </tr>\n",
       "  </thead>\n",
       "  <tbody>\n",
       "    <tr>\n",
       "      <th>METTS MARK</th>\n",
       "      <td>365788</td>\n",
       "      <td>807</td>\n",
       "      <td>NaN</td>\n",
       "      <td>1061827</td>\n",
       "      <td>NaN</td>\n",
       "      <td>600000</td>\n",
       "      <td>mark.metts@enron.com</td>\n",
       "      <td>NaN</td>\n",
       "      <td>NaN</td>\n",
       "      <td>585062</td>\n",
       "      <td>...</td>\n",
       "      <td>38</td>\n",
       "      <td>NaN</td>\n",
       "      <td>29</td>\n",
       "      <td>1740</td>\n",
       "      <td>1</td>\n",
       "      <td>False</td>\n",
       "      <td>NaN</td>\n",
       "      <td>702</td>\n",
       "      <td>585062</td>\n",
       "      <td>NaN</td>\n",
       "    </tr>\n",
       "    <tr>\n",
       "      <th>BAXTER JOHN C</th>\n",
       "      <td>267102</td>\n",
       "      <td>NaN</td>\n",
       "      <td>1295738</td>\n",
       "      <td>5634343</td>\n",
       "      <td>NaN</td>\n",
       "      <td>1200000</td>\n",
       "      <td>NaN</td>\n",
       "      <td>NaN</td>\n",
       "      <td>-1386055</td>\n",
       "      <td>10623258</td>\n",
       "      <td>...</td>\n",
       "      <td>NaN</td>\n",
       "      <td>6680544</td>\n",
       "      <td>NaN</td>\n",
       "      <td>2660303</td>\n",
       "      <td>NaN</td>\n",
       "      <td>False</td>\n",
       "      <td>1586055</td>\n",
       "      <td>NaN</td>\n",
       "      <td>3942714</td>\n",
       "      <td>NaN</td>\n",
       "    </tr>\n",
       "    <tr>\n",
       "      <th>ELLIOTT STEVEN</th>\n",
       "      <td>170941</td>\n",
       "      <td>NaN</td>\n",
       "      <td>NaN</td>\n",
       "      <td>211725</td>\n",
       "      <td>NaN</td>\n",
       "      <td>350000</td>\n",
       "      <td>steven.elliott@enron.com</td>\n",
       "      <td>NaN</td>\n",
       "      <td>-400729</td>\n",
       "      <td>6678735</td>\n",
       "      <td>...</td>\n",
       "      <td>NaN</td>\n",
       "      <td>4890344</td>\n",
       "      <td>NaN</td>\n",
       "      <td>12961</td>\n",
       "      <td>NaN</td>\n",
       "      <td>False</td>\n",
       "      <td>NaN</td>\n",
       "      <td>NaN</td>\n",
       "      <td>1788391</td>\n",
       "      <td>NaN</td>\n",
       "    </tr>\n",
       "    <tr>\n",
       "      <th>CORDES WILLIAM R</th>\n",
       "      <td>NaN</td>\n",
       "      <td>764</td>\n",
       "      <td>NaN</td>\n",
       "      <td>NaN</td>\n",
       "      <td>NaN</td>\n",
       "      <td>NaN</td>\n",
       "      <td>bill.cordes@enron.com</td>\n",
       "      <td>NaN</td>\n",
       "      <td>NaN</td>\n",
       "      <td>1038185</td>\n",
       "      <td>...</td>\n",
       "      <td>10</td>\n",
       "      <td>651850</td>\n",
       "      <td>12</td>\n",
       "      <td>NaN</td>\n",
       "      <td>0</td>\n",
       "      <td>False</td>\n",
       "      <td>NaN</td>\n",
       "      <td>58</td>\n",
       "      <td>386335</td>\n",
       "      <td>NaN</td>\n",
       "    </tr>\n",
       "    <tr>\n",
       "      <th>HANNON KEVIN P</th>\n",
       "      <td>243293</td>\n",
       "      <td>1045</td>\n",
       "      <td>NaN</td>\n",
       "      <td>288682</td>\n",
       "      <td>NaN</td>\n",
       "      <td>1500000</td>\n",
       "      <td>kevin.hannon@enron.com</td>\n",
       "      <td>NaN</td>\n",
       "      <td>-3117011</td>\n",
       "      <td>6391065</td>\n",
       "      <td>...</td>\n",
       "      <td>32</td>\n",
       "      <td>5538001</td>\n",
       "      <td>32</td>\n",
       "      <td>11350</td>\n",
       "      <td>21</td>\n",
       "      <td>True</td>\n",
       "      <td>1617011</td>\n",
       "      <td>1035</td>\n",
       "      <td>853064</td>\n",
       "      <td>NaN</td>\n",
       "    </tr>\n",
       "  </tbody>\n",
       "</table>\n",
       "<p>5 rows × 21 columns</p>\n",
       "</div>"
      ],
      "text/plain": [
       "                  salary to_messages deferral_payments total_payments  \\\n",
       "METTS MARK        365788         807               NaN        1061827   \n",
       "BAXTER JOHN C     267102         NaN           1295738        5634343   \n",
       "ELLIOTT STEVEN    170941         NaN               NaN         211725   \n",
       "CORDES WILLIAM R     NaN         764               NaN            NaN   \n",
       "HANNON KEVIN P    243293        1045               NaN         288682   \n",
       "\n",
       "                 loan_advances    bonus             email_address  \\\n",
       "METTS MARK                 NaN   600000      mark.metts@enron.com   \n",
       "BAXTER JOHN C              NaN  1200000                       NaN   \n",
       "ELLIOTT STEVEN             NaN   350000  steven.elliott@enron.com   \n",
       "CORDES WILLIAM R           NaN      NaN     bill.cordes@enron.com   \n",
       "HANNON KEVIN P             NaN  1500000    kevin.hannon@enron.com   \n",
       "\n",
       "                 restricted_stock_deferred deferred_income total_stock_value  \\\n",
       "METTS MARK                             NaN             NaN            585062   \n",
       "BAXTER JOHN C                          NaN        -1386055          10623258   \n",
       "ELLIOTT STEVEN                         NaN         -400729           6678735   \n",
       "CORDES WILLIAM R                       NaN             NaN           1038185   \n",
       "HANNON KEVIN P                         NaN        -3117011           6391065   \n",
       "\n",
       "                  ... from_poi_to_this_person exercised_stock_options  \\\n",
       "METTS MARK        ...                      38                     NaN   \n",
       "BAXTER JOHN C     ...                     NaN                 6680544   \n",
       "ELLIOTT STEVEN    ...                     NaN                 4890344   \n",
       "CORDES WILLIAM R  ...                      10                  651850   \n",
       "HANNON KEVIN P    ...                      32                 5538001   \n",
       "\n",
       "                 from_messages    other from_this_person_to_poi    poi  \\\n",
       "METTS MARK                  29     1740                       1  False   \n",
       "BAXTER JOHN C              NaN  2660303                     NaN  False   \n",
       "ELLIOTT STEVEN             NaN    12961                     NaN  False   \n",
       "CORDES WILLIAM R            12      NaN                       0  False   \n",
       "HANNON KEVIN P              32    11350                      21   True   \n",
       "\n",
       "                  long_term_incentive shared_receipt_with_poi  \\\n",
       "METTS MARK                        NaN                     702   \n",
       "BAXTER JOHN C                 1586055                     NaN   \n",
       "ELLIOTT STEVEN                    NaN                     NaN   \n",
       "CORDES WILLIAM R                  NaN                      58   \n",
       "HANNON KEVIN P                1617011                    1035   \n",
       "\n",
       "                 restricted_stock director_fees  \n",
       "METTS MARK                 585062           NaN  \n",
       "BAXTER JOHN C             3942714           NaN  \n",
       "ELLIOTT STEVEN            1788391           NaN  \n",
       "CORDES WILLIAM R           386335           NaN  \n",
       "HANNON KEVIN P             853064           NaN  \n",
       "\n",
       "[5 rows x 21 columns]"
      ]
     },
     "execution_count": 78,
     "metadata": {},
     "output_type": "execute_result"
    }
   ],
   "source": [
    "# Converting the given pickled Enron data to a pandas dataframe\n",
    "import pandas as pd\n",
    "enron_df = pd.DataFrame.from_records(list(dictionary.values()))\n",
    "enron_df.head()\n",
    "\n",
    "# set the index of df to be the employees series:\n",
    "employees = pd.Series(list(dictionary.keys()))\n",
    "enron_df.set_index(employees, inplace=True)\n",
    "enron_df.head()"
   ]
  },
  {
   "cell_type": "code",
   "execution_count": 106,
   "metadata": {},
   "outputs": [
    {
     "name": "stdout",
     "output_type": "stream",
     "text": [
      "<class 'pandas.core.frame.DataFrame'>\n",
      "Index: 143 entries, METTS MARK to GLISAN JR BEN F\n",
      "Data columns (total 21 columns):\n",
      " #   Column                     Non-Null Count  Dtype \n",
      "---  ------                     --------------  ----- \n",
      " 0   salary                     143 non-null    object\n",
      " 1   to_messages                143 non-null    object\n",
      " 2   deferral_payments          143 non-null    object\n",
      " 3   total_payments             143 non-null    object\n",
      " 4   loan_advances              143 non-null    object\n",
      " 5   bonus                      143 non-null    object\n",
      " 6   email_address              143 non-null    object\n",
      " 7   restricted_stock_deferred  143 non-null    object\n",
      " 8   deferred_income            143 non-null    object\n",
      " 9   total_stock_value          142 non-null    object\n",
      " 10  expenses                   143 non-null    object\n",
      " 11  from_poi_to_this_person    143 non-null    object\n",
      " 12  exercised_stock_options    143 non-null    object\n",
      " 13  from_messages              143 non-null    object\n",
      " 14  other                      143 non-null    object\n",
      " 15  from_this_person_to_poi    143 non-null    object\n",
      " 16  poi                        143 non-null    bool  \n",
      " 17  long_term_incentive        143 non-null    object\n",
      " 18  shared_receipt_with_poi    143 non-null    object\n",
      " 19  restricted_stock           143 non-null    object\n",
      " 20  director_fees              143 non-null    object\n",
      "dtypes: bool(1), object(20)\n",
      "memory usage: 23.6+ KB\n"
     ]
    }
   ],
   "source": [
    "enron_df.info()"
   ]
  },
  {
   "cell_type": "code",
   "execution_count": 79,
   "metadata": {},
   "outputs": [
    {
     "data": {
      "text/html": [
       "<div>\n",
       "<style scoped>\n",
       "    .dataframe tbody tr th:only-of-type {\n",
       "        vertical-align: middle;\n",
       "    }\n",
       "\n",
       "    .dataframe tbody tr th {\n",
       "        vertical-align: top;\n",
       "    }\n",
       "\n",
       "    .dataframe thead th {\n",
       "        text-align: right;\n",
       "    }\n",
       "</style>\n",
       "<table border=\"1\" class=\"dataframe\">\n",
       "  <thead>\n",
       "    <tr style=\"text-align: right;\">\n",
       "      <th></th>\n",
       "      <th>salary</th>\n",
       "      <th>to_messages</th>\n",
       "      <th>deferral_payments</th>\n",
       "      <th>total_payments</th>\n",
       "      <th>loan_advances</th>\n",
       "      <th>bonus</th>\n",
       "      <th>email_address</th>\n",
       "      <th>restricted_stock_deferred</th>\n",
       "      <th>deferred_income</th>\n",
       "      <th>total_stock_value</th>\n",
       "      <th>...</th>\n",
       "      <th>from_poi_to_this_person</th>\n",
       "      <th>exercised_stock_options</th>\n",
       "      <th>from_messages</th>\n",
       "      <th>other</th>\n",
       "      <th>from_this_person_to_poi</th>\n",
       "      <th>poi</th>\n",
       "      <th>long_term_incentive</th>\n",
       "      <th>shared_receipt_with_poi</th>\n",
       "      <th>restricted_stock</th>\n",
       "      <th>director_fees</th>\n",
       "    </tr>\n",
       "  </thead>\n",
       "  <tbody>\n",
       "    <tr>\n",
       "      <th>METTS MARK</th>\n",
       "      <td>365788.0</td>\n",
       "      <td>807.0</td>\n",
       "      <td>0.0</td>\n",
       "      <td>1061827.0</td>\n",
       "      <td>0.0</td>\n",
       "      <td>600000.0</td>\n",
       "      <td>0.0</td>\n",
       "      <td>0.0</td>\n",
       "      <td>0.0</td>\n",
       "      <td>585062.0</td>\n",
       "      <td>...</td>\n",
       "      <td>38.0</td>\n",
       "      <td>0.0</td>\n",
       "      <td>29.0</td>\n",
       "      <td>1740.0</td>\n",
       "      <td>1.0</td>\n",
       "      <td>False</td>\n",
       "      <td>0.0</td>\n",
       "      <td>702.0</td>\n",
       "      <td>585062.0</td>\n",
       "      <td>0.0</td>\n",
       "    </tr>\n",
       "    <tr>\n",
       "      <th>BAXTER JOHN C</th>\n",
       "      <td>267102.0</td>\n",
       "      <td>0.0</td>\n",
       "      <td>1295738.0</td>\n",
       "      <td>5634343.0</td>\n",
       "      <td>0.0</td>\n",
       "      <td>1200000.0</td>\n",
       "      <td>0.0</td>\n",
       "      <td>0.0</td>\n",
       "      <td>-1386055.0</td>\n",
       "      <td>10623258.0</td>\n",
       "      <td>...</td>\n",
       "      <td>0.0</td>\n",
       "      <td>6680544.0</td>\n",
       "      <td>0.0</td>\n",
       "      <td>2660303.0</td>\n",
       "      <td>0.0</td>\n",
       "      <td>False</td>\n",
       "      <td>1586055.0</td>\n",
       "      <td>0.0</td>\n",
       "      <td>3942714.0</td>\n",
       "      <td>0.0</td>\n",
       "    </tr>\n",
       "    <tr>\n",
       "      <th>ELLIOTT STEVEN</th>\n",
       "      <td>170941.0</td>\n",
       "      <td>0.0</td>\n",
       "      <td>0.0</td>\n",
       "      <td>211725.0</td>\n",
       "      <td>0.0</td>\n",
       "      <td>350000.0</td>\n",
       "      <td>0.0</td>\n",
       "      <td>0.0</td>\n",
       "      <td>-400729.0</td>\n",
       "      <td>6678735.0</td>\n",
       "      <td>...</td>\n",
       "      <td>0.0</td>\n",
       "      <td>4890344.0</td>\n",
       "      <td>0.0</td>\n",
       "      <td>12961.0</td>\n",
       "      <td>0.0</td>\n",
       "      <td>False</td>\n",
       "      <td>0.0</td>\n",
       "      <td>0.0</td>\n",
       "      <td>1788391.0</td>\n",
       "      <td>0.0</td>\n",
       "    </tr>\n",
       "    <tr>\n",
       "      <th>CORDES WILLIAM R</th>\n",
       "      <td>0.0</td>\n",
       "      <td>764.0</td>\n",
       "      <td>0.0</td>\n",
       "      <td>0.0</td>\n",
       "      <td>0.0</td>\n",
       "      <td>0.0</td>\n",
       "      <td>0.0</td>\n",
       "      <td>0.0</td>\n",
       "      <td>0.0</td>\n",
       "      <td>1038185.0</td>\n",
       "      <td>...</td>\n",
       "      <td>10.0</td>\n",
       "      <td>651850.0</td>\n",
       "      <td>12.0</td>\n",
       "      <td>0.0</td>\n",
       "      <td>0.0</td>\n",
       "      <td>False</td>\n",
       "      <td>0.0</td>\n",
       "      <td>58.0</td>\n",
       "      <td>386335.0</td>\n",
       "      <td>0.0</td>\n",
       "    </tr>\n",
       "    <tr>\n",
       "      <th>HANNON KEVIN P</th>\n",
       "      <td>243293.0</td>\n",
       "      <td>1045.0</td>\n",
       "      <td>0.0</td>\n",
       "      <td>288682.0</td>\n",
       "      <td>0.0</td>\n",
       "      <td>1500000.0</td>\n",
       "      <td>0.0</td>\n",
       "      <td>0.0</td>\n",
       "      <td>-3117011.0</td>\n",
       "      <td>6391065.0</td>\n",
       "      <td>...</td>\n",
       "      <td>32.0</td>\n",
       "      <td>5538001.0</td>\n",
       "      <td>32.0</td>\n",
       "      <td>11350.0</td>\n",
       "      <td>21.0</td>\n",
       "      <td>True</td>\n",
       "      <td>1617011.0</td>\n",
       "      <td>1035.0</td>\n",
       "      <td>853064.0</td>\n",
       "      <td>0.0</td>\n",
       "    </tr>\n",
       "  </tbody>\n",
       "</table>\n",
       "<p>5 rows × 21 columns</p>\n",
       "</div>"
      ],
      "text/plain": [
       "                    salary  to_messages  deferral_payments  total_payments  \\\n",
       "METTS MARK        365788.0        807.0                0.0       1061827.0   \n",
       "BAXTER JOHN C     267102.0          0.0          1295738.0       5634343.0   \n",
       "ELLIOTT STEVEN    170941.0          0.0                0.0        211725.0   \n",
       "CORDES WILLIAM R       0.0        764.0                0.0             0.0   \n",
       "HANNON KEVIN P    243293.0       1045.0                0.0        288682.0   \n",
       "\n",
       "                  loan_advances      bonus  email_address  \\\n",
       "METTS MARK                  0.0   600000.0            0.0   \n",
       "BAXTER JOHN C               0.0  1200000.0            0.0   \n",
       "ELLIOTT STEVEN              0.0   350000.0            0.0   \n",
       "CORDES WILLIAM R            0.0        0.0            0.0   \n",
       "HANNON KEVIN P              0.0  1500000.0            0.0   \n",
       "\n",
       "                  restricted_stock_deferred  deferred_income  \\\n",
       "METTS MARK                              0.0              0.0   \n",
       "BAXTER JOHN C                           0.0       -1386055.0   \n",
       "ELLIOTT STEVEN                          0.0        -400729.0   \n",
       "CORDES WILLIAM R                        0.0              0.0   \n",
       "HANNON KEVIN P                          0.0       -3117011.0   \n",
       "\n",
       "                  total_stock_value  ...  from_poi_to_this_person  \\\n",
       "METTS MARK                 585062.0  ...                     38.0   \n",
       "BAXTER JOHN C            10623258.0  ...                      0.0   \n",
       "ELLIOTT STEVEN            6678735.0  ...                      0.0   \n",
       "CORDES WILLIAM R          1038185.0  ...                     10.0   \n",
       "HANNON KEVIN P            6391065.0  ...                     32.0   \n",
       "\n",
       "                  exercised_stock_options  from_messages      other  \\\n",
       "METTS MARK                            0.0           29.0     1740.0   \n",
       "BAXTER JOHN C                   6680544.0            0.0  2660303.0   \n",
       "ELLIOTT STEVEN                  4890344.0            0.0    12961.0   \n",
       "CORDES WILLIAM R                 651850.0           12.0        0.0   \n",
       "HANNON KEVIN P                  5538001.0           32.0    11350.0   \n",
       "\n",
       "                  from_this_person_to_poi    poi  long_term_incentive  \\\n",
       "METTS MARK                            1.0  False                  0.0   \n",
       "BAXTER JOHN C                         0.0  False            1586055.0   \n",
       "ELLIOTT STEVEN                        0.0  False                  0.0   \n",
       "CORDES WILLIAM R                      0.0  False                  0.0   \n",
       "HANNON KEVIN P                       21.0   True            1617011.0   \n",
       "\n",
       "                  shared_receipt_with_poi  restricted_stock  director_fees  \n",
       "METTS MARK                          702.0          585062.0            0.0  \n",
       "BAXTER JOHN C                         0.0         3942714.0            0.0  \n",
       "ELLIOTT STEVEN                        0.0         1788391.0            0.0  \n",
       "CORDES WILLIAM R                     58.0          386335.0            0.0  \n",
       "HANNON KEVIN P                     1035.0          853064.0            0.0  \n",
       "\n",
       "[5 rows x 21 columns]"
      ]
     },
     "execution_count": 79,
     "metadata": {},
     "output_type": "execute_result"
    }
   ],
   "source": [
    "# Coerce numeric values into floats or ints; also change NaN to zero:\n",
    "enron_df_new = enron_df.apply(lambda x : pd.to_numeric(x, errors = 'coerce')).copy().fillna(0)\n",
    "enron_df_new.head()"
   ]
  },
  {
   "cell_type": "code",
   "execution_count": 80,
   "metadata": {},
   "outputs": [
    {
     "data": {
      "text/html": [
       "<div>\n",
       "<style scoped>\n",
       "    .dataframe tbody tr th:only-of-type {\n",
       "        vertical-align: middle;\n",
       "    }\n",
       "\n",
       "    .dataframe tbody tr th {\n",
       "        vertical-align: top;\n",
       "    }\n",
       "\n",
       "    .dataframe thead th {\n",
       "        text-align: right;\n",
       "    }\n",
       "</style>\n",
       "<table border=\"1\" class=\"dataframe\">\n",
       "  <thead>\n",
       "    <tr style=\"text-align: right;\">\n",
       "      <th></th>\n",
       "      <th>salary</th>\n",
       "      <th>to_messages</th>\n",
       "      <th>deferral_payments</th>\n",
       "      <th>total_payments</th>\n",
       "      <th>loan_advances</th>\n",
       "      <th>bonus</th>\n",
       "      <th>email_address</th>\n",
       "      <th>restricted_stock_deferred</th>\n",
       "      <th>deferred_income</th>\n",
       "      <th>total_stock_value</th>\n",
       "      <th>expenses</th>\n",
       "      <th>from_poi_to_this_person</th>\n",
       "      <th>exercised_stock_options</th>\n",
       "      <th>from_messages</th>\n",
       "      <th>other</th>\n",
       "      <th>from_this_person_to_poi</th>\n",
       "      <th>long_term_incentive</th>\n",
       "      <th>shared_receipt_with_poi</th>\n",
       "      <th>restricted_stock</th>\n",
       "      <th>director_fees</th>\n",
       "    </tr>\n",
       "  </thead>\n",
       "  <tbody>\n",
       "    <tr>\n",
       "      <th>count</th>\n",
       "      <td>1.430000e+02</td>\n",
       "      <td>143.000000</td>\n",
       "      <td>1.430000e+02</td>\n",
       "      <td>1.430000e+02</td>\n",
       "      <td>1.430000e+02</td>\n",
       "      <td>1.430000e+02</td>\n",
       "      <td>143.0</td>\n",
       "      <td>1.430000e+02</td>\n",
       "      <td>1.430000e+02</td>\n",
       "      <td>1.430000e+02</td>\n",
       "      <td>143.000000</td>\n",
       "      <td>143.000000</td>\n",
       "      <td>1.430000e+02</td>\n",
       "      <td>143.000000</td>\n",
       "      <td>1.430000e+02</td>\n",
       "      <td>143.000000</td>\n",
       "      <td>1.430000e+02</td>\n",
       "      <td>143.000000</td>\n",
       "      <td>1.430000e+02</td>\n",
       "      <td>143.000000</td>\n",
       "    </tr>\n",
       "    <tr>\n",
       "      <th>mean</th>\n",
       "      <td>1.714731e+05</td>\n",
       "      <td>1191.972028</td>\n",
       "      <td>2.222237e+05</td>\n",
       "      <td>1.489942e+06</td>\n",
       "      <td>1.678322e+04</td>\n",
       "      <td>5.926127e+05</td>\n",
       "      <td>0.0</td>\n",
       "      <td>7.393131e+04</td>\n",
       "      <td>-1.929398e+05</td>\n",
       "      <td>2.404233e+06</td>\n",
       "      <td>34719.447552</td>\n",
       "      <td>37.552448</td>\n",
       "      <td>1.715504e+06</td>\n",
       "      <td>365.118881</td>\n",
       "      <td>2.267385e+05</td>\n",
       "      <td>24.475524</td>\n",
       "      <td>3.007128e+05</td>\n",
       "      <td>676.384615</td>\n",
       "      <td>7.235235e+05</td>\n",
       "      <td>10050.111888</td>\n",
       "    </tr>\n",
       "    <tr>\n",
       "      <th>std</th>\n",
       "      <td>1.660404e+05</td>\n",
       "      <td>2223.860300</td>\n",
       "      <td>7.567502e+05</td>\n",
       "      <td>2.386745e+06</td>\n",
       "      <td>1.703294e+05</td>\n",
       "      <td>1.036924e+06</td>\n",
       "      <td>0.0</td>\n",
       "      <td>1.306545e+06</td>\n",
       "      <td>6.080753e+05</td>\n",
       "      <td>4.422592e+06</td>\n",
       "      <td>45235.547286</td>\n",
       "      <td>74.148184</td>\n",
       "      <td>3.694149e+06</td>\n",
       "      <td>1455.675655</td>\n",
       "      <td>7.552178e+05</td>\n",
       "      <td>80.080666</td>\n",
       "      <td>6.183785e+05</td>\n",
       "      <td>1066.923179</td>\n",
       "      <td>1.571184e+06</td>\n",
       "      <td>31399.349067</td>\n",
       "    </tr>\n",
       "    <tr>\n",
       "      <th>min</th>\n",
       "      <td>0.000000e+00</td>\n",
       "      <td>0.000000</td>\n",
       "      <td>-1.025000e+05</td>\n",
       "      <td>0.000000e+00</td>\n",
       "      <td>0.000000e+00</td>\n",
       "      <td>0.000000e+00</td>\n",
       "      <td>0.0</td>\n",
       "      <td>-1.787380e+06</td>\n",
       "      <td>-3.504386e+06</td>\n",
       "      <td>-4.409300e+04</td>\n",
       "      <td>0.000000</td>\n",
       "      <td>0.000000</td>\n",
       "      <td>0.000000e+00</td>\n",
       "      <td>0.000000</td>\n",
       "      <td>0.000000e+00</td>\n",
       "      <td>0.000000</td>\n",
       "      <td>0.000000e+00</td>\n",
       "      <td>0.000000</td>\n",
       "      <td>-2.604490e+06</td>\n",
       "      <td>0.000000</td>\n",
       "    </tr>\n",
       "    <tr>\n",
       "      <th>25%</th>\n",
       "      <td>0.000000e+00</td>\n",
       "      <td>0.000000</td>\n",
       "      <td>0.000000e+00</td>\n",
       "      <td>8.929250e+04</td>\n",
       "      <td>0.000000e+00</td>\n",
       "      <td>0.000000e+00</td>\n",
       "      <td>0.0</td>\n",
       "      <td>0.000000e+00</td>\n",
       "      <td>-3.499950e+04</td>\n",
       "      <td>2.148255e+05</td>\n",
       "      <td>0.000000</td>\n",
       "      <td>0.000000</td>\n",
       "      <td>0.000000e+00</td>\n",
       "      <td>0.000000</td>\n",
       "      <td>0.000000e+00</td>\n",
       "      <td>0.000000</td>\n",
       "      <td>0.000000e+00</td>\n",
       "      <td>0.000000</td>\n",
       "      <td>0.000000e+00</td>\n",
       "      <td>0.000000</td>\n",
       "    </tr>\n",
       "    <tr>\n",
       "      <th>50%</th>\n",
       "      <td>2.061210e+05</td>\n",
       "      <td>266.000000</td>\n",
       "      <td>0.000000e+00</td>\n",
       "      <td>9.114530e+05</td>\n",
       "      <td>0.000000e+00</td>\n",
       "      <td>2.500000e+05</td>\n",
       "      <td>0.0</td>\n",
       "      <td>0.000000e+00</td>\n",
       "      <td>0.000000e+00</td>\n",
       "      <td>9.543540e+05</td>\n",
       "      <td>17355.000000</td>\n",
       "      <td>1.000000</td>\n",
       "      <td>6.014380e+05</td>\n",
       "      <td>16.000000</td>\n",
       "      <td>8.910000e+02</td>\n",
       "      <td>0.000000</td>\n",
       "      <td>0.000000e+00</td>\n",
       "      <td>91.000000</td>\n",
       "      <td>3.466630e+05</td>\n",
       "      <td>0.000000</td>\n",
       "    </tr>\n",
       "    <tr>\n",
       "      <th>75%</th>\n",
       "      <td>2.670975e+05</td>\n",
       "      <td>1504.000000</td>\n",
       "      <td>3.980500e+03</td>\n",
       "      <td>1.858492e+06</td>\n",
       "      <td>0.000000e+00</td>\n",
       "      <td>8.000000e+05</td>\n",
       "      <td>0.0</td>\n",
       "      <td>0.000000e+00</td>\n",
       "      <td>0.000000e+00</td>\n",
       "      <td>2.217787e+06</td>\n",
       "      <td>52688.500000</td>\n",
       "      <td>39.500000</td>\n",
       "      <td>1.636136e+06</td>\n",
       "      <td>50.500000</td>\n",
       "      <td>1.492040e+05</td>\n",
       "      <td>12.500000</td>\n",
       "      <td>3.676730e+05</td>\n",
       "      <td>869.000000</td>\n",
       "      <td>6.801640e+05</td>\n",
       "      <td>0.000000</td>\n",
       "    </tr>\n",
       "    <tr>\n",
       "      <th>max</th>\n",
       "      <td>1.060932e+06</td>\n",
       "      <td>15149.000000</td>\n",
       "      <td>6.426990e+06</td>\n",
       "      <td>1.725253e+07</td>\n",
       "      <td>2.000000e+06</td>\n",
       "      <td>8.000000e+06</td>\n",
       "      <td>0.0</td>\n",
       "      <td>1.545629e+07</td>\n",
       "      <td>0.000000e+00</td>\n",
       "      <td>3.076606e+07</td>\n",
       "      <td>228763.000000</td>\n",
       "      <td>528.000000</td>\n",
       "      <td>3.076606e+07</td>\n",
       "      <td>14368.000000</td>\n",
       "      <td>7.427621e+06</td>\n",
       "      <td>609.000000</td>\n",
       "      <td>5.145434e+06</td>\n",
       "      <td>5521.000000</td>\n",
       "      <td>1.384707e+07</td>\n",
       "      <td>137864.000000</td>\n",
       "    </tr>\n",
       "  </tbody>\n",
       "</table>\n",
       "</div>"
      ],
      "text/plain": [
       "             salary   to_messages  deferral_payments  total_payments  \\\n",
       "count  1.430000e+02    143.000000       1.430000e+02    1.430000e+02   \n",
       "mean   1.714731e+05   1191.972028       2.222237e+05    1.489942e+06   \n",
       "std    1.660404e+05   2223.860300       7.567502e+05    2.386745e+06   \n",
       "min    0.000000e+00      0.000000      -1.025000e+05    0.000000e+00   \n",
       "25%    0.000000e+00      0.000000       0.000000e+00    8.929250e+04   \n",
       "50%    2.061210e+05    266.000000       0.000000e+00    9.114530e+05   \n",
       "75%    2.670975e+05   1504.000000       3.980500e+03    1.858492e+06   \n",
       "max    1.060932e+06  15149.000000       6.426990e+06    1.725253e+07   \n",
       "\n",
       "       loan_advances         bonus  email_address  restricted_stock_deferred  \\\n",
       "count   1.430000e+02  1.430000e+02          143.0               1.430000e+02   \n",
       "mean    1.678322e+04  5.926127e+05            0.0               7.393131e+04   \n",
       "std     1.703294e+05  1.036924e+06            0.0               1.306545e+06   \n",
       "min     0.000000e+00  0.000000e+00            0.0              -1.787380e+06   \n",
       "25%     0.000000e+00  0.000000e+00            0.0               0.000000e+00   \n",
       "50%     0.000000e+00  2.500000e+05            0.0               0.000000e+00   \n",
       "75%     0.000000e+00  8.000000e+05            0.0               0.000000e+00   \n",
       "max     2.000000e+06  8.000000e+06            0.0               1.545629e+07   \n",
       "\n",
       "       deferred_income  total_stock_value       expenses  \\\n",
       "count     1.430000e+02       1.430000e+02     143.000000   \n",
       "mean     -1.929398e+05       2.404233e+06   34719.447552   \n",
       "std       6.080753e+05       4.422592e+06   45235.547286   \n",
       "min      -3.504386e+06      -4.409300e+04       0.000000   \n",
       "25%      -3.499950e+04       2.148255e+05       0.000000   \n",
       "50%       0.000000e+00       9.543540e+05   17355.000000   \n",
       "75%       0.000000e+00       2.217787e+06   52688.500000   \n",
       "max       0.000000e+00       3.076606e+07  228763.000000   \n",
       "\n",
       "       from_poi_to_this_person  exercised_stock_options  from_messages  \\\n",
       "count               143.000000             1.430000e+02     143.000000   \n",
       "mean                 37.552448             1.715504e+06     365.118881   \n",
       "std                  74.148184             3.694149e+06    1455.675655   \n",
       "min                   0.000000             0.000000e+00       0.000000   \n",
       "25%                   0.000000             0.000000e+00       0.000000   \n",
       "50%                   1.000000             6.014380e+05      16.000000   \n",
       "75%                  39.500000             1.636136e+06      50.500000   \n",
       "max                 528.000000             3.076606e+07   14368.000000   \n",
       "\n",
       "              other  from_this_person_to_poi  long_term_incentive  \\\n",
       "count  1.430000e+02               143.000000         1.430000e+02   \n",
       "mean   2.267385e+05                24.475524         3.007128e+05   \n",
       "std    7.552178e+05                80.080666         6.183785e+05   \n",
       "min    0.000000e+00                 0.000000         0.000000e+00   \n",
       "25%    0.000000e+00                 0.000000         0.000000e+00   \n",
       "50%    8.910000e+02                 0.000000         0.000000e+00   \n",
       "75%    1.492040e+05                12.500000         3.676730e+05   \n",
       "max    7.427621e+06               609.000000         5.145434e+06   \n",
       "\n",
       "       shared_receipt_with_poi  restricted_stock  director_fees  \n",
       "count               143.000000      1.430000e+02     143.000000  \n",
       "mean                676.384615      7.235235e+05   10050.111888  \n",
       "std                1066.923179      1.571184e+06   31399.349067  \n",
       "min                   0.000000     -2.604490e+06       0.000000  \n",
       "25%                   0.000000      0.000000e+00       0.000000  \n",
       "50%                  91.000000      3.466630e+05       0.000000  \n",
       "75%                 869.000000      6.801640e+05       0.000000  \n",
       "max                5521.000000      1.384707e+07  137864.000000  "
      ]
     },
     "execution_count": 80,
     "metadata": {},
     "output_type": "execute_result"
    }
   ],
   "source": [
    "enron_df_new.describe()"
   ]
  },
  {
   "cell_type": "code",
   "execution_count": 104,
   "metadata": {},
   "outputs": [
    {
     "data": {
      "image/png": "[encoded data removed]",
      "text/plain": [
       "<Figure size 432x288 with 1 Axes>"
      ]
     },
     "metadata": {
      "needs_background": "light"
     },
     "output_type": "display_data"
    }
   ],
   "source": [
    "enron_df_new.salary.hist();"
   ]
  },
  {
   "cell_type": "code",
   "execution_count": 105,
   "metadata": {},
   "outputs": [
    {
     "data": {
      "image/png": "[encoded data removed]",
      "text/plain": [
       "<Figure size 432x288 with 1 Axes>"
      ]
     },
     "metadata": {
      "needs_background": "light"
     },
     "output_type": "display_data"
    }
   ],
   "source": [
    "enron_df_new.bonus.hist();"
   ]
  },
  {
   "cell_type": "code",
   "execution_count": 107,
   "metadata": {},
   "outputs": [
    {
     "data": {
      "image/png": "[encoded data removed]",
      "text/plain": [
       "<Figure size 432x288 with 1 Axes>"
      ]
     },
     "metadata": {
      "needs_background": "light"
     },
     "output_type": "display_data"
    }
   ],
   "source": [
    "enron_df_new.long_term_incentive.hist();"
   ]
  },
  {
   "cell_type": "markdown",
   "metadata": {},
   "source": [
    "Use regression to predict financial data for Enron employees and associates. Once you know some financial data about an employee, like their salary, __what would you predict for the size of their bonus?__  \n",
    "- Target : Bonus  \n",
    "- Input  : Salary"
   ]
  },
  {
   "cell_type": "code",
   "execution_count": 81,
   "metadata": {},
   "outputs": [],
   "source": [
    "## list the features you want to look at--first item \n",
    "## in the list will be the \"target\" feature\n",
    "features_list = [\"bonus\", \"salary\"]\n",
    "data = featureFormat( dictionary, features_list, remove_any_zeroes=True)\n",
    "target, features = targetFeatureSplit( data )"
   ]
  },
  {
   "cell_type": "code",
   "execution_count": 82,
   "metadata": {},
   "outputs": [],
   "source": [
    "### training-testing split needed in regression, just like classification\n",
    "#from sklearn.model_selection import train_test_split\n",
    "feature_train, feature_test, target_train, target_test = train_test_split(features, target, test_size=0.5, random_state=42)\n",
    "train_color = \"b\"\n",
    "#test_color = \"b\""
   ]
  },
  {
   "cell_type": "markdown",
   "metadata": {},
   "source": [
    "You will be fitting your regression using the blue (training) points only. (You may have noticed that instead of the standard 10%, we’ve put 50% of our data into the test set--that’s because in Part 5, we will switch the training and testing datasets around and splitting the data evenly makes this more straightforward.)"
   ]
  },
  {
   "cell_type": "code",
   "execution_count": 83,
   "metadata": {},
   "outputs": [
    {
     "data": {
      "text/plain": [
       "LinearRegression()"
      ]
     },
     "execution_count": 83,
     "metadata": {},
     "output_type": "execute_result"
    }
   ],
   "source": [
    "## Your regression goes here!. Please name it reg, so that the plotting code below picks it up and \n",
    "## plots it correctly. Don't forget to change the test_color above from \"b\" to \"r\" to differentiate training points from test points.\n",
    "\n",
    "test_color = \"r\"\n",
    "from sklearn.linear_model import LinearRegression\n",
    "reg = LinearRegression()\n",
    "reg.fit(feature_train, target_train)"
   ]
  },
  {
   "cell_type": "markdown",
   "metadata": {},
   "source": [
    "## Extracting Slope and Intercept"
   ]
  },
  {
   "cell_type": "code",
   "execution_count": 84,
   "metadata": {},
   "outputs": [
    {
     "name": "stdout",
     "output_type": "stream",
     "text": [
      "Coefficients :  [1.97017287]\n"
     ]
    }
   ],
   "source": [
    "print ('Coefficients : ', reg.coef_)"
   ]
  },
  {
   "cell_type": "code",
   "execution_count": 85,
   "metadata": {},
   "outputs": [
    {
     "name": "stdout",
     "output_type": "stream",
     "text": [
      "Intercept :  662220.4176015807\n"
     ]
    }
   ],
   "source": [
    "print ('Intercept : ', reg.intercept_)"
   ]
  },
  {
   "cell_type": "markdown",
   "metadata": {},
   "source": [
    "## Regression Score: Training Data\n",
    "\n",
    "Imagine you were a less savvy machine learner, and didn’t know to test on a holdout test set. Instead, you tested on the same data that you used to train, by comparing the regression predictions to the target values (i.e. bonuses) in the training data. What score do you find? You may not have an intuition yet for what a “good” score is; this score isn’t very good (but it could be a lot worse)."
   ]
  },
  {
   "cell_type": "code",
   "execution_count": 86,
   "metadata": {},
   "outputs": [
    {
     "name": "stdout",
     "output_type": "stream",
     "text": [
      "R-squared value on training data :  0.04164573226747781\n"
     ]
    }
   ],
   "source": [
    "print ('R-squared value on training data : ', reg.score(feature_train, target_train))"
   ]
  },
  {
   "cell_type": "markdown",
   "metadata": {},
   "source": [
    "## Regression Score: Test Data\n",
    "\n",
    "Now compute the score for your regression on the test data, like you know you should. What’s that score on the testing data?"
   ]
  },
  {
   "cell_type": "code",
   "execution_count": 87,
   "metadata": {},
   "outputs": [
    {
     "name": "stdout",
     "output_type": "stream",
     "text": [
      "R-squared value on testing data :  -0.04471207836147806\n"
     ]
    }
   ],
   "source": [
    "print ('R-squared value on testing data : ', reg.score(feature_test, target_test))"
   ]
  },
  {
   "cell_type": "code",
   "execution_count": 123,
   "metadata": {},
   "outputs": [
    {
     "data": {
      "text/plain": [
       "array([1546919.17211633, 1357593.06855529, 1874705.60034882,\n",
       "       1656433.07094976, 1023518.26251928, 4057996.75363721,\n",
       "       1229048.30346257,  466303.11655559,  407112.81343515,\n",
       "        393435.11819008, 2052276.50971014, 2557723.81656469,\n",
       "       2846269.44144046, 4339846.771424  , 1542198.15353944,\n",
       "        951201.91777885, 4314963.16799216, 2198942.97800621,\n",
       "       1546919.17211633,  880635.23839867, 1118116.20496637,\n",
       "        525493.41967603, 1058206.14775998, 5048532.27068501,\n",
       "        656303.9895722 , 1213656.45703913,  643874.02591691,\n",
       "       2536289.82399872])"
      ]
     },
     "execution_count": 123,
     "metadata": {},
     "output_type": "execute_result"
    }
   ],
   "source": [
    "reg.predict(feature_test)"
   ]
  },
  {
   "cell_type": "code",
   "execution_count": 88,
   "metadata": {},
   "outputs": [
    {
     "data": {
      "image/png": "[encoded data removed]",
      "text/plain": [
       "<Figure size 432x288 with 1 Axes>"
      ]
     },
     "metadata": {
      "needs_background": "light"
     },
     "output_type": "display_data"
    }
   ],
   "source": [
    "for feature, target in zip(feature_test, target_test):\n",
    "    plt.scatter( feature, target, color=test_color) \n",
    "\n",
    "for feature, target in zip(feature_train, target_train):\n",
    "    plt.scatter( feature, target, color=train_color )\n",
    "plt.xlabel('salary')\n",
    "plt.ylabel('bonus');\n"
   ]
  },
  {
   "cell_type": "code",
   "execution_count": 89,
   "metadata": {},
   "outputs": [
    {
     "data": {
      "image/png": "[encoded data removed]",
      "text/plain": [
       "<Figure size 432x288 with 1 Axes>"
      ]
     },
     "metadata": {
      "needs_background": "light"
     },
     "output_type": "display_data"
    }
   ],
   "source": [
    "### labels for the legend\n",
    "plt.scatter(feature_test[0], target_test[0], color=test_color, label=\"test\")\n",
    "plt.scatter(feature_test[0], target_test[0], color=train_color, label=\"train\")\n",
    "\n",
    "try:\n",
    "    plt.plot( feature_test, reg.predict(feature_test) )\n",
    "except NameError:\n",
    "    pass\n",
    "\n",
    "plt.xlabel(features_list[1])\n",
    "plt.ylabel(features_list[0])\n",
    "plt.legend()\n",
    "plt.show()"
   ]
  },
  {
   "cell_type": "code",
   "execution_count": 90,
   "metadata": {},
   "outputs": [
    {
     "data": {
      "image/png": "[encoded data removed]",
      "text/plain": [
       "<Figure size 432x288 with 1 Axes>"
      ]
     },
     "metadata": {
      "needs_background": "light"
     },
     "output_type": "display_data"
    }
   ],
   "source": [
    "### labels for the legend\n",
    "plt.scatter(feature_test, target_test, color=test_color, label=\"test\")\n",
    "plt.scatter(feature_test[0], target_test[0], color=train_color, label=\"train\")\n",
    "\n",
    "try:\n",
    "    plt.plot( feature_test, reg.predict(feature_test) )\n",
    "except NameError:\n",
    "    pass\n",
    "\n",
    "plt.xlabel(features_list[1])\n",
    "plt.ylabel(features_list[0])\n",
    "plt.legend()\n",
    "plt.show()"
   ]
  },
  {
   "cell_type": "markdown",
   "metadata": {},
   "source": [
    " You might notice a few data points that fall outside the main trend, someone who gets a high salary (over a million dollars!) but a relatively small bonus. This is an example of an outlier.\n",
    " \n",
    "As things stand right now, this point falls into the test set (and probably hurting the score on our test data as a result). \n",
    "\n",
    " Let’s add a little hack to see what happens if it falls in the training set instead. Add these two lines near the bottom of ```finance_regression.py```, i.e., right before ```plt.xlabel(features_list[1])```:\n",
    " \n",
    " > reg.fit(feature_test, target_test)  \n",
    "plt.plot(feature_train, reg.predict(feature_train), color=\"b\") "
   ]
  },
  {
   "cell_type": "markdown",
   "metadata": {},
   "source": [
    "## Sneak Peek: Outliers Break Regressions"
   ]
  },
  {
   "cell_type": "code",
   "execution_count": 91,
   "metadata": {},
   "outputs": [
    {
     "data": {
      "image/png": "[encoded data removed]",
      "text/plain": [
       "<Figure size 432x288 with 1 Axes>"
      ]
     },
     "metadata": {
      "needs_background": "light"
     },
     "output_type": "display_data"
    }
   ],
   "source": [
    "### labels for the legend\n",
    "plt.scatter(feature_test[0], target_test[0], color=test_color, label=\"test\")\n",
    "plt.scatter(feature_test[0], target_test[0], color=train_color, label=\"train\")\n",
    "\n",
    "try:\n",
    "    plt.plot( feature_test, reg.predict(feature_test) )\n",
    "except NameError:\n",
    "    pass\n",
    "\n",
    "reg.fit(feature_test, target_test)\n",
    "plt.plot(feature_train, reg.predict(feature_train), color=\"purple\")                   #  bepaalt regression line obv trainingdata\n",
    "plt.xlabel(features_list[1])\n",
    "plt.ylabel(features_list[0])\n",
    "plt.legend()\n",
    "plt.show()"
   ]
  },
  {
   "cell_type": "code",
   "execution_count": 117,
   "metadata": {},
   "outputs": [
    {
     "name": "stdout",
     "output_type": "stream",
     "text": [
      "Coefficients :  [2.36761212]\n"
     ]
    }
   ],
   "source": [
    "print ('Coefficients : ', reg.coef_)"
   ]
  },
  {
   "cell_type": "markdown",
   "metadata": {},
   "source": [
    "Now we’ll be drawing two regression lines, one fit on the test data (with outlier) and one fit on the training data (no outlier, purple line). Look at the plot now--big difference, huh? That single outlier is driving most of the difference.  \n",
    "\n",
    "What’s the slope of the new regression line?"
   ]
  },
  {
   "cell_type": "code",
   "execution_count": 92,
   "metadata": {},
   "outputs": [
    {
     "data": {
      "text/plain": [
       "array([2.36761212])"
      ]
     },
     "execution_count": 92,
     "metadata": {},
     "output_type": "execute_result"
    }
   ],
   "source": [
    "reg.coef_"
   ]
  },
  {
   "cell_type": "markdown",
   "metadata": {},
   "source": [
    "The slope is about 2.27 after removing the outlier, which is a big difference from what we had before (about 5.4).  A small number of outliers makes a big difference!"
   ]
  },
  {
   "cell_type": "markdown",
   "metadata": {},
   "source": [
    "From Python 3.3 forward, a change to the order in which dictionary keys are processed was made such that the orders are randomized each time the code is run. This will cause some compatibility problems with the graders and project code, which were run under Python 2.7. To correct for this, add the following argument to the __featureFormat__ call on line 26 of __finance_regression.py__\n",
    "\n",
    "> sort_keys = '../tools/python2_lesson06_keys.pkl'\n",
    "\n",
    "This will open up a file in the tools folder with the Python 2 key order."
   ]
  },
  {
   "cell_type": "markdown",
   "metadata": {},
   "source": [
    "## Regressing Bonus Against LTI(long term incentive)\n",
    "\n",
    "There are lots of finance features available, some of which might be more powerful than others in terms of predicting a person’s bonus. For example, suppose you thought about the data a bit and guess that the “long_term_incentive” feature, which is supposed to reward employees for contributing to the long-term health of the company, might be more closely related to a person’s bonus than their salary is.\n",
    "\n",
    "A way to confirm that you’re right in this hypothesis is to regress the bonus against the long term incentive, and see if the regression score is significantly higher than regressing the bonus against the salary. Perform the regression of bonus against long term incentive--what’s the score on the test data?"
   ]
  },
  {
   "cell_type": "code",
   "execution_count": 108,
   "metadata": {},
   "outputs": [],
   "source": [
    "### list the features you want to look at--first item in the \n",
    "### list will be the \"target\" feature\n",
    "features_list = [\"bonus\", 'long_term_incentive']\n",
    "data = featureFormat( dictionary, features_list, remove_any_zeroes=True)\n",
    "target, features = targetFeatureSplit( data )"
   ]
  },
  {
   "cell_type": "code",
   "execution_count": 109,
   "metadata": {},
   "outputs": [
    {
     "data": {
      "text/plain": [
       "LinearRegression()"
      ]
     },
     "execution_count": 109,
     "metadata": {},
     "output_type": "execute_result"
    }
   ],
   "source": [
    "feature_train, feature_test, target_train, target_test = train_test_split(features, target, test_size=0.5, random_state=42)\n",
    "train_color = \"b\"\n",
    "\n",
    "test_color = \"r\"\n",
    "reg2 = LinearRegression()\n",
    "reg2.fit(feature_train, target_train)"
   ]
  },
  {
   "cell_type": "markdown",
   "metadata": {},
   "source": [
    "## Extracting Slope and Intercept"
   ]
  },
  {
   "cell_type": "code",
   "execution_count": 110,
   "metadata": {},
   "outputs": [
    {
     "name": "stdout",
     "output_type": "stream",
     "text": [
      "Coefficients :  [0.2671367]\n"
     ]
    }
   ],
   "source": [
    "print ('Coefficients : ', reg2.coef_)"
   ]
  },
  {
   "cell_type": "code",
   "execution_count": 111,
   "metadata": {},
   "outputs": [
    {
     "name": "stdout",
     "output_type": "stream",
     "text": [
      "Intercept :  1044304.0637582359\n"
     ]
    }
   ],
   "source": [
    "print ('Intercept : ', reg2.intercept_)"
   ]
  },
  {
   "cell_type": "markdown",
   "metadata": {},
   "source": [
    "## Regression Score (on test data)"
   ]
  },
  {
   "cell_type": "code",
   "execution_count": 112,
   "metadata": {},
   "outputs": [
    {
     "name": "stdout",
     "output_type": "stream",
     "text": [
      "R-squared value on testing data :  0.10891175736247383\n"
     ]
    }
   ],
   "source": [
    "print ('R-squared value on testing data : ', reg2.score(feature_test, target_test))"
   ]
  },
  {
   "cell_type": "markdown",
   "metadata": {},
   "source": [
    "#### We have a better score when using long-term incentive to predict someone's bonus (as compared to salary), which translates to a better fit."
   ]
  },
  {
   "cell_type": "code",
   "execution_count": 114,
   "metadata": {},
   "outputs": [
    {
     "data": {
      "image/png": "[encoded data removed]",
      "text/plain": [
       "<Figure size 432x288 with 1 Axes>"
      ]
     },
     "metadata": {
      "needs_background": "light"
     },
     "output_type": "display_data"
    }
   ],
   "source": [
    "for feature, target in zip(feature_test, target_test):\n",
    "    plt.scatter( feature, target, color=test_color ) \n",
    "\n",
    "for feature, target in zip(feature_train, target_train):\n",
    "    plt.scatter( feature, target, color=train_color )\n",
    "    \n",
    "plt.xlabel('Long term incentive')\n",
    "plt.ylabel('bonus');"
   ]
  },
  {
   "cell_type": "code",
   "execution_count": 116,
   "metadata": {},
   "outputs": [
    {
     "data": {
      "image/png": "[encoded data removed]",
      "text/plain": [
       "<Figure size 432x288 with 1 Axes>"
      ]
     },
     "metadata": {
      "needs_background": "light"
     },
     "output_type": "display_data"
    }
   ],
   "source": [
    "### labels for the legend\n",
    "plt.scatter(feature_test, target_test, color=test_color, label=\"test\")\n",
    "plt.scatter(feature_test[0], target_test[0], color=train_color, label=\"train\")\n",
    "\n",
    "try:\n",
    "    plt.plot( feature_test, reg2.predict(feature_test) )\n",
    "except NameError:\n",
    "    pass\n",
    "\n",
    "plt.xlabel(features_list[1])\n",
    "plt.ylabel(features_list[0])\n",
    "plt.legend()\n",
    "plt.show()"
   ]
  },
  {
   "cell_type": "code",
   "execution_count": null,
   "metadata": {
    "collapsed": true,
    "jupyter": {
     "outputs_hidden": true
    }
   },
   "outputs": [],
   "source": []
  },
  {
   "cell_type": "code",
   "execution_count": null,
   "metadata": {},
   "outputs": [],
   "source": []
  }
 ],
 "metadata": {
  "kernelspec": {
   "display_name": "Python 3",
   "language": "python",
   "name": "python3"
  },
  "language_info": {
   "codemirror_mode": {
    "name": "ipython",
    "version": 3
   },
   "file_extension": ".py",
   "mimetype": "text/x-python",
   "name": "python",
   "nbconvert_exporter": "python",
   "pygments_lexer": "ipython3",
   "version": "3.7.7"
  }
 },
 "nbformat": 4,
 "nbformat_minor": 4
}
