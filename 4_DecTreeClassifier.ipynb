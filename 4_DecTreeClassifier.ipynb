{
 "cells": [
  {
   "cell_type": "markdown",
   "metadata": {},
   "source": [
    "# Lesson 4 - Decision Tree\n",
    "This is the code to accompany the Lesson 3 (decision tree) mini-project.\n",
    "\n",
    "Use a Decision Tree to identify emails from the Enron corpus by author:\n",
    "Sara has label 0 Chris has label 1"
   ]
  },
  {
   "cell_type": "code",
   "execution_count": 1,
   "metadata": {},
   "outputs": [
    {
     "name": "stdout",
     "output_type": "stream",
     "text": [
      "no. of Chris training emails: 7936\n",
      "no. of Sara training emails: 7884\n"
     ]
    }
   ],
   "source": [
    "#!/usr/bin/python\n",
    "\n",
    "\"\"\" \n",
    "    This is the code to accompany the Lesson 3 (decision tree) mini-project.\n",
    "\n",
    "    Use a Decision Tree to identify emails from the Enron corpus by author:    \n",
    "    Sara has label 0\n",
    "    Chris has label 1\n",
    "\"\"\"\n",
    "    \n",
    "import sys\n",
    "from time import time\n",
    "sys.path.append(\"../tools/\")\n",
    "from email_preprocess import preprocess\n",
    "from sklearn import tree\n",
    "\n",
    "### features_train and features_test are the features for the training\n",
    "### and testing datasets, respectively\n",
    "### labels_train and labels_test are the corresponding item labels\n",
    "features_train, features_test, labels_train, labels_test = preprocess()"
   ]
  },
  {
   "cell_type": "code",
   "execution_count": 2,
   "metadata": {},
   "outputs": [
    {
     "data": {
      "text/plain": [
       "dtype('float64')"
      ]
     },
     "execution_count": 2,
     "metadata": {},
     "output_type": "execute_result"
    }
   ],
   "source": [
    "features_train.dtype\n"
   ]
  },
  {
   "cell_type": "code",
   "execution_count": 3,
   "metadata": {
    "colab": {
     "base_uri": "https://localhost:8080/",
     "height": 52
    },
    "colab_type": "code",
    "id": "Erm_hL66Q5pI",
    "outputId": "bc0f3717-73f2-49b1-a459-16cab2c4db31"
   },
   "outputs": [
    {
     "name": "stdout",
     "output_type": "stream",
     "text": [
      "train: 59878700\n",
      "test: 6654030\n"
     ]
    }
   ],
   "source": [
    "print(f'train: {features_train.size}')\n",
    "print(f'test: {features_test.size}')"
   ]
  },
  {
   "cell_type": "code",
   "execution_count": null,
   "metadata": {},
   "outputs": [],
   "source": []
  },
  {
   "cell_type": "code",
   "execution_count": null,
   "metadata": {},
   "outputs": [],
   "source": [
    "\n",
    "clf = tree.DecisionTreeClassifier()\n",
    "\n",
    "t0 = time()\n",
    "# Initialize our classifier\n",
    "clf = clf.fit(features_train, labels_train)\n",
    "print (\"training time:\", round(time()-t0, 3), \"s\")\n",
    "\n",
    "t0 = time()\n",
    "clf.predict(features_test)\n",
    "print(sum(clf.predict(features_test) ==1))\n",
    "print (\"prediction time:\", round(time()-t0, 3), \"s\")\n",
    "\n",
    "print('accuracy of the decision tree classifiation is: %0.3f' % clf.score(features_test, labels_test))"
   ]
  },
  {
   "cell_type": "code",
   "execution_count": 4,
   "metadata": {},
   "outputs": [
    {
     "name": "stdout",
     "output_type": "stream",
     "text": [
      "training time: 3.193 s\n",
      "886\n",
      "prediction time: 0.006 s\n",
      "accuracy of the decision tree classifiation is: 0.966\n"
     ]
    }
   ],
   "source": [
    "\n",
    "t0 = time()\n",
    "clf = clf.fit(features_train, labels_train)\n",
    "print (\"training time:\", round(time()-t0, 3), \"s\")\n",
    "\n",
    "t0 = time()\n",
    "clf.predict(features_test)\n",
    "print(sum(clf.predict(features_test) ==1))\n",
    "print (\"prediction time:\", round(time()-t0, 3), \"s\")\n",
    "\n",
    "print('accuracy of the decision tree classifiation is: %0.3f' % clf.score(features_test, labels_test))"
   ]
  },
  {
   "cell_type": "code",
   "execution_count": 16,
   "metadata": {},
   "outputs": [
    {
     "name": "stdout",
     "output_type": "stream",
     "text": [
      "training time: 3.617 s\n",
      "Number of events predicted in Chris class is 864\n",
      "prediction time: 0.01 s\n",
      "accuracy of the decision tree classifiation is: 0.987\n"
     ]
    }
   ],
   "source": [
    "#  min_samples_split = 2   dus een hele fijne vertakking\n",
    "\n",
    "\n",
    "clf = tree.DecisionTreeClassifier(min_samples_split=2)    \n",
    "\n",
    "t0 = time()\n",
    "clf = clf.fit(features_train, labels_train)\n",
    "print (\"training time:\", round(time()-t0, 3), \"s\")\n",
    "\n",
    "t0 = time()\n",
    "clf.predict(features_test)\n",
    "print('Number of events predicted in Chris class is', sum(clf.predict(features_test) ==1))\n",
    "print (\"prediction time:\", round(time()-t0, 3), \"s\")\n",
    "\n",
    "print('accuracy of the decision tree classifiation is: %0.3f' % clf.score(features_test, labels_test))"
   ]
  },
  {
   "cell_type": "code",
   "execution_count": null,
   "metadata": {},
   "outputs": [],
   "source": []
  },
  {
   "cell_type": "code",
   "execution_count": 17,
   "metadata": {},
   "outputs": [
    {
     "name": "stdout",
     "output_type": "stream",
     "text": [
      "number of features 379\n"
     ]
    }
   ],
   "source": [
    "print ('number of features %d' % len(features_train[0]))"
   ]
  },
  {
   "cell_type": "code",
   "execution_count": null,
   "metadata": {},
   "outputs": [],
   "source": []
  },
  {
   "cell_type": "code",
   "execution_count": null,
   "metadata": {},
   "outputs": [],
   "source": []
  },
  {
   "cell_type": "markdown",
   "metadata": {},
   "source": [
    "## hoe lager entropy  (GINI) hoe beter het is om feature te gebruiken om boompje mee op te zetten"
   ]
  },
  {
   "cell_type": "code",
   "execution_count": null,
   "metadata": {
    "jupyter": {
     "source_hidden": true
    }
   },
   "outputs": [],
   "source": [
    "aap1 = -0.5*math.log(0.5, 2) - 0.5*math.log(0.5, 2)           \n",
    "aap1\n",
    "\n",
    "#aap2 = aap1 *0.75\n",
    "#1-aap2"
   ]
  },
  {
   "cell_type": "code",
   "execution_count": 5,
   "metadata": {},
   "outputs": [
    {
     "data": {
      "text/plain": [
       "0.9183482667614573"
      ]
     },
     "execution_count": 5,
     "metadata": {},
     "output_type": "execute_result"
    }
   ],
   "source": [
    "# entropy \n",
    "import math\n",
    "entropy_parent = 1\n",
    "weighted_aver_entropy_children = -0.6666*math.log(0.6666, 2) - 0.3333*math.log(0.3333, 2) \n",
    "weighted_aver_entropy_children"
   ]
  },
  {
   "cell_type": "code",
   "execution_count": 6,
   "metadata": {},
   "outputs": [
    {
     "data": {
      "text/plain": [
       "0.311238799928907"
      ]
     },
     "execution_count": 6,
     "metadata": {},
     "output_type": "execute_result"
    }
   ],
   "source": [
    "info_gain = entropy_parent - (weighted_aver_entropy_children * 0.75)\n",
    "info_gain"
   ]
  },
  {
   "cell_type": "code",
   "execution_count": 7,
   "metadata": {},
   "outputs": [
    {
     "data": {
      "text/plain": [
       "1.0"
      ]
     },
     "execution_count": 7,
     "metadata": {},
     "output_type": "execute_result"
    }
   ],
   "source": [
    "# entropy die slecht is: met deze feature valt weinig te winnen om in top van boom te splitsen\n",
    "import math\n",
    "entropy_parent = 1\n",
    "weighted_aver_entropy_children = -0.5*math.log(0.5, 2) - 0.5*math.log(0.5, 2) \n",
    "weighted_aver_entropy_children"
   ]
  },
  {
   "cell_type": "code",
   "execution_count": null,
   "metadata": {},
   "outputs": [],
   "source": []
  }
 ],
 "metadata": {
  "kernelspec": {
   "display_name": "Python 3",
   "language": "python",
   "name": "python3"
  },
  "language_info": {
   "codemirror_mode": {
    "name": "ipython",
    "version": 3
   },
   "file_extension": ".py",
   "mimetype": "text/x-python",
   "name": "python",
   "nbconvert_exporter": "python",
   "pygments_lexer": "ipython3",
   "version": "3.7.7"
  }
 },
 "nbformat": 4,
 "nbformat_minor": 4
}
